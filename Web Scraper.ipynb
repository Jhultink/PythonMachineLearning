{
 "cells": [
  {
   "cell_type": "code",
   "execution_count": 17,
   "metadata": {
    "collapsed": false
   },
   "outputs": [],
   "source": [
    "import urllib.request\n",
    "from bs4 import BeautifulSoup\n",
    "base = \"http://www.gvsu.edu/peoplefinder/?q=\"\n",
    "\n",
    "[\"Alessandra Lai\",\n",
    "\"Camaal Murray\",\n",
    "\"Chelsey Hart\",\n",
    "\"Eric Chilcote\",\n",
    "\"Isaiah Sepulveda\",\n",
    "\"Nicole Kloostra\",\n",
    "\"Heidi Otte\",\n",
    "\"Laura Johnson\",\n",
    "\"Alyssa Hartsig\",\n",
    "\"Kayleigh Walcott\",\n",
    "\"Mallory Miller\",\n",
    "\"Emma Hartman\",\n",
    "\"Tara Zamarron\",\n",
    "\"Madelyn Hurley\",\n",
    "\"Nicholas Anders\",\n",
    "\"Jazmine Burgee\",\n",
    "\"Brett Wildman\",\n",
    "\"Austin Rasch\",\n",
    "\"Austin Dietz\",\n",
    "\"Shannon Rollins\",\n",
    "\"Averie Allen\",\n",
    "\"Elizabeth Casolari\",\n",
    "\"Tanthalas Taggart\",\n",
    "\"Jaredt Hultink\",\n",
    "\"Hannah Lippe\",\n",
    "\"Stephanie Arndt\",\n",
    "\"Ericka Lehnen\",\n",
    "\"Alexandra Tullis\",\n",
    "\"Aundrea Negus\",\n",
    "\"Taylor Knoper\",\n",
    "\"Nathaniel Leach\",\n",
    "\"Mark Savage\",\n",
    "\"Obiora Okoye\",\n",
    "\"Lan Nguyen\",\n",
    "\"Adaija Packnet\",\n",
    "\"Kaitlyn Bartl\",\n",
    "\"Caleb DeVries\",\n",
    "\"Jessica Briggs\",\n",
    "\"Cara Morelli\",\n",
    "\"Linda Nguyen\",\n",
    "\"Shelby Stanke\",\n",
    "\"Nathan Lafata\",\n",
    "\"Alexandra Stocker\",\n",
    "\"Brooke Karafa\",\n",
    "\"Erik Braun\",\n",
    "\"Jessica Worden\",\n",
    "\"Brittney VanKoevering\",\n",
    "\"Taylor Ostrander\",\n",
    "\"Kristine VanKirk\",\n",
    "\"Erica Roll\",\n",
    "\"Chaya Krolikowski\",\n",
    "\"Alexis Bartsch\",\n",
    "\"Ryan Martinez\"]\n",
    "\n",
    "name = \"Jaredt Hultink\"\n",
    "fp = urllib.request.urlopen(base + name).read()"
   ]
  },
  {
   "cell_type": "code",
   "execution_count": 19,
   "metadata": {
    "collapsed": false
   },
   "outputs": [
    {
     "data": {
      "text/plain": [
       "'<!DOCTYPE html>\\n<html lang=\"en\">\\n <head>\\n  <title>\\n   You\\'ve been permanently banned - People Finder - Grand Valley State University\\n  </title>\\n  <meta content=\"noindex,nofollow\" name=\"robots\"/>\\n  <meta content=\"text/html;charset=utf-8\" http-equiv=\"content-type\"/>\\n  <meta content=\"Tue, 29 Nov 2016 00:04:57 GMT\" http-equiv=\"last-modified\"/>\\n  <meta content=\"width=device-width,initial-scale=1.0\" name=\"viewport\"/>\\n  <meta content=\"IE=Edge\" http-equiv=\"X-UA-Compatible\"/>\\n  <meta content=\"#0065a4\" name=\"theme-color\"/>\\n  <link href=\"/includes/images/apple-touch-icon.png\" rel=\"apple-touch-icon\"/>\\n  <link href=\"/homepage/files/css/combined[1478783967].css\" rel=\"stylesheet\" type=\"text/css\"/>\\n  <!--[if lte IE 8]>\\n\\t\\t\\t<script src=\"//html5shim.googlecode.com/svn/trunk/html5.js\"></script>\\n\\t\\t\\t<link rel=\"stylesheet\" type=\"text/css\" href=\"/homepage/files/css/lte_ie8[1478783967].css\" />\\n\\t\\t<![endif]-->\\n  <!--[if lte IE 9]>\\n\\t\\t\\t<script src=\"//twemoji.maxcdn.com/twemoji.min.js\"></script>\\n\\t\\t\\t<script src=\"/homepage/files/js/lte_ie9.min[1464961708].js\"></script>\\n\\t\\t\\t<link rel=\"stylesheet\" type=\"text/css\" href=\"/homepage/files/css/lte_ie9[1478783967].css\" />\\n\\t\\t<![endif]-->\\n  <!--[if gte IE 9]>\\n\\t\\t\\t<link rel=\"stylesheet\" type=\"text/css\" href=\"/homepage/files/css/gte_ie9[1469649483].css\" />\\n\\t\\t<![endif]-->\\n  <script type=\"text/javascript\">\\n   (function(d,h,s){h=d.createElement(\\'script\\');h.async=true;h.type=\\'text/javascript\\';h.src=\\'/homepage/files/js/gvsu.min[1478783967].js\\';s=d.getElementsByTagName(\\'script\\')[0];s.parentNode.insertBefore(h,s)})(document);\\n\\t\\t\\t(function(d,h,s){h=d.createElement(\\'script\\');h.async=true;h.type=\\'text/javascript\\';h.src=\\'/homepage/files/js/analytics[1480370400].js\\';s=d.getElementsByTagName(\\'script\\')[0];s.parentNode.insertBefore(h,s)})(document);\\n\\t\\t\\t\\n\\t\\t\\tif (Math.floor((Math.random() * 5)) === 0) {\\n\\t\\t\\t\\t(function(d,i,h,s){h=d.createElement(\\'script\\');h.async=true;h.src=\\'/tools/heatmap/files/js/Heatmap.js?trackerId=\\'+i;s=d.getElementsByTagName(\\'script\\')[0];s.parentNode.insertBefore(h,s)})(document,\\'C2DD8C86-C2A0-E9DB-E7FA033AB5342287\\');\\n\\t\\t\\t}\\n  </script>\\n </head>\\n <body class=\"internal\">\\n  <a class=\"sr-only\" href=\"#page-content\">\\n   Skip to main content\\n  </a>\\n  <div class=\"header\">\\n   <div class=\"row content\">\\n    <div class=\"col-5 col-sm-12 logo\">\\n     <div class=\"col-12 col-sm-9\">\\n      <h1>\\n       <a href=\"/\">\\n        <!--[if lte IE 8|!IE]>\\n\\t\\t\\t\\t\\t\\t\\t\\t\\t\\t<img src=\"/homepage/files/img/gvsu_logo_white[1470740211].png\" alt=\"Grand Valley State University\" />\\n\\t\\t\\t\\t\\t\\t\\t\\t\\t<![endif]-->\\n        <!--[if gte IE 9|!IE]><!-->\\n        <img alt=\"Grand Valley State University\" onerror=\"this.onerror=null;this.src=\\'/homepage/files/img/gvsu_logo_white[1470740211].png\\'\" src=\"/homepage/files/img/gvsu_logo_white[1470740211].svg\"/>\\n        <!--<![endif]-->\\n        <span class=\"sr-only\">\\n         Grand Valley State University\\n        </span>\\n       </a>\\n      </h1>\\n     </div>\\n     <div class=\"hide-lg hide-md col-sm-3\">\\n      <a id=\"gv-hamburger\">\\n       <span class=\"icon icon-menu\">\\n       </span>\\n      </a>\\n     </div>\\n    </div>\\n    <div class=\"col-7 col-sm-12 quick hide-print\">\\n     <ul class=\"navigation\">\\n      <li class=\"tooltip tooltip-bottom\" title=\"Blackboard\">\\n       <a href=\"http://mybb.gvsu.edu\" onclick=\"ga != undefined &amp;&amp; ga(\\'send\\', \\'event\\', \\'Homepage\\', \\'Quick\\', \\'Blackboard\\')\">\\n        <span class=\"icon icon-myblackboard\">\\n        </span>\\n        <span class=\"sr-only\">\\n         Blackboard\\n        </span>\\n       </a>\\n      </li>\\n      <li class=\"tooltip tooltip-bottom\" title=\"Banner\">\\n       <a href=\"http://mybanner.gvsu.edu\" onclick=\"ga != undefined &amp;&amp; ga(\\'send\\', \\'event\\', \\'Homepage\\', \\'Quick\\', \\'Banner\\')\">\\n        <span class=\"icon icon-mybanner\">\\n        </span>\\n        <span class=\"sr-only\">\\n         Banner\\n        </span>\\n       </a>\\n      </li>\\n      <li class=\"tooltip tooltip-bottom\" title=\"Student Email\">\\n       <a href=\"http://mail.gvsu.edu\" onclick=\"ga != undefined &amp;&amp; ga(\\'send\\', \\'event\\', \\'Homepage\\', \\'Quick\\', \\'Student Email\\')\">\\n        <span class=\"icon icon-mail-alt\">\\n        </span>\\n        <span class=\"sr-only\">\\n         Student Email\\n        </span>\\n       </a>\\n      </li>\\n      <li class=\"tooltip tooltip-bottom\" title=\"Library\">\\n       <a href=\"/library\" onclick=\"ga != undefined &amp;&amp; ga(\\'send\\', \\'event\\', \\'Homepage\\', \\'Quick\\', \\'Library\\')\">\\n        <span class=\"icon icon-bank\">\\n        </span>\\n        <span class=\"sr-only\">\\n         Library\\n        </span>\\n       </a>\\n      </li>\\n     </ul>\\n     <form action=\"/searchaction.htm\" class=\"search\">\\n      <input name=\"media\" type=\"hidden\" value=\"google\"/>\\n      <input name=\"path\" type=\"hidden\" value=\"\"/>\\n      <label>\\n       <span class=\"icon icon-search\">\\n       </span>\\n       <span class=\"sr-only\">\\n        Search People &amp; Pages\\n       </span>\\n       <input id=\"gv-search\" maxlength=\"255\" name=\"search\" placeholder=\"Search People &amp; Pages\" size=\"25\" title=\"Search People &amp; Pages\" type=\"text\"/>\\n      </label>\\n      <button class=\"sr-only\" type=\"submit\">\\n       Submit\\n      </button>\\n      <div class=\"suggestion\" id=\"gv-suggestion\">\\n       <div class=\"row\">\\n        <div class=\"col-6 hide-sm\">\\n         <ul>\\n          <li class=\"suggestion-title\">\\n           People Finder\\n          </li>\\n         </ul>\\n         <ul id=\"gv-suggestion-people\">\\n         </ul>\\n        </div>\\n        <div class=\"col-6 col-sm-12\">\\n         <ul>\\n          <li class=\"suggestion-title\">\\n           Search Suggestions\\n          </li>\\n         </ul>\\n         <ul id=\"gv-suggestion-google\">\\n         </ul>\\n         <ul class=\"hide-lg hide-md\" id=\"gv-suggestion-peoplelink\">\\n          <li>\\n           <a href=\"\">\\n            <span class=\"icon icon-users\">\\n            </span>\\n            People Finder\\n           </a>\\n          </li>\\n         </ul>\\n        </div>\\n       </div>\\n      </div>\\n     </form>\\n    </div>\\n   </div>\\n  </div>\\n  <div class=\"background hide-print\">\\n   <div class=\"navigation\">\\n    <ul class=\"content\" id=\"gv-background-navigation\">\\n     <li>\\n      <strong>\\n       <a href=\"/admissions\">\\n        Admissions\\n       </a>\\n      </strong>\\n     </li>\\n     <li>\\n      <strong>\\n       <a href=\"/acad-index.htm\">\\n        Majors &amp; Programs\\n       </a>\\n      </strong>\\n     </li>\\n     <li class=\"separator\">\\n      |\\n     </li>\\n     <li data-panel=\"students\">\\n      <a href=\"/students.htm\">\\n       Students\\n      </a>\\n     </li>\\n     <li data-panel=\"facultystaff\">\\n      <a href=\"/facultystaff.htm\">\\n       Faculty &amp; Staff\\n      </a>\\n     </li>\\n     <li data-panel=\"alumni\">\\n      <a href=\"/alumni.htm\">\\n       Alumni &amp; Community\\n      </a>\\n     </li>\\n    </ul>\\n   </div>\\n  </div>\\n  <div class=\"breadcrumb hide-print\">\\n   <ul class=\"content\">\\n    <li>\\n     <a href=\"/peoplefinder/\">\\n      People Finder\\n     </a>\\n    </li>\\n    <li class=\"active\">\\n     <span>\\n      You\\'ve been permanently banned\\n     </span>\\n    </li>\\n   </ul>\\n  </div>\\n  <a name=\"page-content\">\\n  </a>\\n  <div class=\"content\">\\n   <h1>\\n    You\\'ve been permanently banned\\n   </h1>\\n   <p>\\n    In order to protect the data of students, faculty, and staff at the university from being harvested for spamming purposes we have permanently banned you from searching for people.\\n   </p>\\n   <p>\\n    Sometimes this occurs because another person previously used your computer, or your network internet protocol (IP) identifier. Not to worry though, as you can request to be removed from this permanent ban with the form below. Usually it takes us only a couple hours to lift the ban, but sometimes it can take up to 1-2 days. If you need to access people\\'s information immediately we suggest trying another computer.\\n   </p>\\n   <p>\\n    If you are a Faculty or Staff member of GVSU and have a valid network login you can freely search the entire directory of other Faculty and Staff by going to:\\n    <a href=\"/directory\">\\n     http://www.gvsu.edu/directory\\n    </a>\\n   </p>\\n   <p>\\n    If you have any other questions pertaining this, please contact the Grand Valley State University\\n    <a href=\"/webteam\">\\n     Web Team\\n    </a>\\n    at 616-331-2525.\\n   </p>\\n   <h2>\\n    Request removal from being banned\\n   </h2>\\n   <script src=\"/includes/templates/js/form_checker.js\" type=\"text/javascript\">\\n   </script>\\n   <form action=\"banned_post.htm\" method=\"post\" onsubmit=\"return checkForm(this)\">\\n    <p>\\n     <label>\\n      Name:\\n      <br/>\\n      <input maxlength=\"255\" message=\"Please enter your name\" name=\"surveyName\" required=\"true\" size=\"35\" type=\"text\"/>\\n     </label>\\n    </p>\\n    <p>\\n     <label>\\n      Email address:\\n      <br/>\\n      <input maxlength=\"255\" message=\"Please enter a valid email address\" name=\"surveyEmail\" required=\"true\" scheme=\"email\" size=\"35\" type=\"text\"/>\\n     </label>\\n    </p>\\n    <p>\\n     <label>\\n      Reason for your searching:\\n      <br/>\\n      <textarea cols=\"45\" message=\"Please enter a reason for why you were searching\" name=\"surveyDescription\" required=\"true\" rows=\"5\"></textarea>\\n     </label>\\n    </p>\\n    <p>\\n     <label>\\n      <input name=\"surveyAffiliation\" onclick=\"document.getElementById(\\'div_surveyAffiliation\\').style.display=(this.checked?\\'\\':\\'none\\');\" type=\"checkbox\" value=\"1\"/>\\n      I am a student, faculty, or staff member of Grand Valley State University\\n     </label>\\n     <br/>\\n     <label>\\n      <input message=\"Please check your understanding that if you are banned again you will not be unbanned\" name=\"surveyAgreement\" required=\"true\" type=\"checkbox\" value=\"1\"/>\\n      I understand that if I am banned again I cannot be unbanned\\n     </label>\\n    </p>\\n    <div id=\"div_surveyAffiliation\" style=\"display:none;\">\\n     <p>\\n      <label>\\n       GVSU Network Login:\\n       <br/>\\n       <input maxlength=\"255\" name=\"username\" size=\"35\" type=\"text\"/>\\n      </label>\\n     </p>\\n     <p>\\n      <label>\\n       Password:\\n       <br/>\\n       <input maxlength=\"255\" name=\"password\" size=\"35\" type=\"password\"/>\\n      </label>\\n     </p>\\n    </div>\\n    <p>\\n     <input type=\"submit\" value=\"Submit\"/>\\n    </p>\\n   </form>\\n  </div>\\n  <div class=\"footer hide-print\">\\n   <div class=\"content\">\\n    <h2 class=\"sr-only\">\\n     Footer\\n    </h2>\\n    <div class=\"row-gutter\">\\n     <div class=\"col-7 col-md-6 col-sm-12 navigation\">\\n      <div class=\"row-gutter\">\\n       <div class=\"col-4 col-md-6\">\\n        <h3 class=\"sr-only\">\\n         Contact Us\\n        </h3>\\n        <p>\\n         1 Campus Drive\\n         <br/>\\n         Allendale, MI 49401\\n         <span class=\"hide-sm\">\\n          -9403\\n         </span>\\n         <br/>\\n         <span class=\"hide-sm\">\\n          USA -\\n         </span>\\n         (616) 331-5000\\n         <br/>\\n         <a href=\"/contactus-index.htm\" title=\"Contact Grand Valley State University\">\\n          Contact Us\\n         </a>\\n        </p>\\n       </div>\\n       <div class=\"col-8 col-md-6\">\\n        <h3 class=\"sr-only\">\\n         Helpful Links\\n        </h3>\\n        <div class=\"row-gutter\">\\n         <div class=\"col-6 col-md-12\">\\n          <p>\\n           <a href=\"/about.htm\" title=\"About Grand Valley State University\">\\n            About GVSU\\n           </a>\\n           <br/>\\n           <a href=\"/azindex.htm\" title=\"Grand Valley State University A-Z Web Site Index\">\\n            A-Z Index\\n           </a>\\n           <br/>\\n           <a href=\"/bus/schedule-79.htm\" title=\"Transportation Services Bus Schedule\">\\n            Bus Schedule\\n           </a>\\n           <br/>\\n           <a href=\"/espanol\">\\n            Español\\n           </a>\\n           <br/>\\n           <a href=\"/giving\" title=\"Give to Grand Valley State University\">\\n            Giving\\n           </a>\\n           <span class=\"hide-lg hide-md\">\\n            <br/>\\n           </span>\\n          </p>\\n         </div>\\n         <div class=\"col-6 col-md-12\">\\n          <p>\\n           <a href=\"/diversity\" title=\"Division of Inclusion and Equity at Grand Valley State University\">\\n            Inclusion/Diversity\\n           </a>\\n           <br/>\\n           <a href=\"http://www.gvsulakers.com\" title=\"Grand Valley State University Athletics\">\\n            Laker Athletics\\n           </a>\\n           <br/>\\n           <a href=\"/maps.htm\" title=\"Grand Valley State University Campus Maps and Directions\">\\n            Maps &amp; Directions\\n           </a>\\n           <br/>\\n           <a href=\"/parking\" title=\"Grand Valley State University Parking Services\">\\n            Parking\\n           </a>\\n           <br/>\\n           <a href=\"/veterans\" title=\"Grand Valley State University Veterans Network\">\\n            Veterans\\n           </a>\\n          </p>\\n         </div>\\n        </div>\\n       </div>\\n      </div>\\n     </div>\\n     <div class=\"col-5 col-md-6 col-sm-12 ads\">\\n      <h3 class=\"sr-only\">\\n       Advertisements\\n      </h3>\\n      <div class=\"row-gutter\">\\n       <div class=\"col-6\">\\n        <a href=\"http://masl.cis.gvsu.edu/portfolio/laker-mobile/\">\\n         <noscript data-lazy-alt=\"GVSU Laker Mobile\" data-lazy-sizes=\"(min-width:1000px) 20vw, (min-width:800px) 25vw, 50vw\" data-lazy-src=\"/homepage/files/img/advertisement/54D8C7A9-B98C-0E54-524C9C080AAA5D0C/300[1470740209].jpg\" data-lazy-srcset=\"/homepage/files/img/advertisement/54D8C7A9-B98C-0E54-524C9C080AAA5D0C/600[1470740209].jpg 600w,/homepage/files/img/advertisement/54D8C7A9-B98C-0E54-524C9C080AAA5D0C/400[1470740209].jpg 400w,/homepage/files/img/advertisement/54D8C7A9-B98C-0E54-524C9C080AAA5D0C/300[1470740209].jpg 300w\" data-lazy-width=\"100%\">\\n          <img alt=\"GVSU Laker Mobile\" sizes=\"(min-width:1000px) 20vw, (min-width:800px) 25vw, 50vw\" src=\"/homepage/files/img/advertisement/54D8C7A9-B98C-0E54-524C9C080AAA5D0C/300[1470740209].jpg\" srcset=\"/homepage/files/img/advertisement/54D8C7A9-B98C-0E54-524C9C080AAA5D0C/600[1470740209].jpg 600w,/homepage/files/img/advertisement/54D8C7A9-B98C-0E54-524C9C080AAA5D0C/400[1470740209].jpg 400w,/homepage/files/img/advertisement/54D8C7A9-B98C-0E54-524C9C080AAA5D0C/300[1470740209].jpg 300w\" width=\"100%\"/>\\n         </noscript>\\n        </a>\\n       </div>\\n       <div class=\"col-6\">\\n        <a href=\"/emergencycontact/\">\\n         <noscript data-lazy-alt=\"Emergency Contact\" data-lazy-sizes=\"(min-width:1000px) 20vw, (min-width:800px) 25vw, 50vw\" data-lazy-src=\"/homepage/files/img/advertisement/54C4B21A-F71C-8063-872BCFCC7094330E/300[1470740209].jpg\" data-lazy-srcset=\"/homepage/files/img/advertisement/54C4B21A-F71C-8063-872BCFCC7094330E/600[1470740209].jpg 600w,/homepage/files/img/advertisement/54C4B21A-F71C-8063-872BCFCC7094330E/400[1470740209].jpg 400w,/homepage/files/img/advertisement/54C4B21A-F71C-8063-872BCFCC7094330E/300[1470740209].jpg 300w\" data-lazy-width=\"100%\">\\n          <img alt=\"Emergency Contact\" sizes=\"(min-width:1000px) 20vw, (min-width:800px) 25vw, 50vw\" src=\"/homepage/files/img/advertisement/54C4B21A-F71C-8063-872BCFCC7094330E/300[1470740209].jpg\" srcset=\"/homepage/files/img/advertisement/54C4B21A-F71C-8063-872BCFCC7094330E/600[1470740209].jpg 600w,/homepage/files/img/advertisement/54C4B21A-F71C-8063-872BCFCC7094330E/400[1470740209].jpg 400w,/homepage/files/img/advertisement/54C4B21A-F71C-8063-872BCFCC7094330E/300[1470740209].jpg 300w\" width=\"100%\"/>\\n         </noscript>\\n        </a>\\n       </div>\\n      </div>\\n     </div>\\n    </div>\\n   </div>\\n  </div>\\n  <div class=\"bottom hide-print\">\\n   <div class=\"content\">\\n    <div class=\"row-gutter\">\\n     <div class=\"col-5 col-sm-12 smicon\">\\n      <h3 class=\"sr-only\">\\n       Social Media\\n      </h3>\\n      <ul>\\n       <li class=\"tooltip\" title=\"Facebook\">\\n        <a href=\"http://www.facebook.com/grandvalley\" target=\"_blank\">\\n         <span class=\"icon icon-facebook\">\\n         </span>\\n         <span class=\"sr-only\">\\n          Facebook\\n         </span>\\n        </a>\\n       </li>\\n       <li class=\"tooltip\" title=\"Twitter\">\\n        <a href=\"http://www.twitter.com/gvsu\" target=\"_blank\">\\n         <span class=\"icon icon-twitter\">\\n         </span>\\n         <span class=\"sr-only\">\\n          Twitter\\n         </span>\\n        </a>\\n       </li>\\n       <li class=\"tooltip\" title=\"Instagram\">\\n        <a href=\"http://www.instagram.com/gvsu\" target=\"_blank\">\\n         <span class=\"icon icon-instagram\">\\n         </span>\\n         <span class=\"sr-only\">\\n          Instagram\\n         </span>\\n        </a>\\n       </li>\\n       <li class=\"tooltip\" title=\"YouTube\">\\n        <a href=\"http://www.youtube.com/gvsu\" target=\"_blank\">\\n         <span class=\"icon icon-youtube-play\">\\n         </span>\\n         <span class=\"sr-only\">\\n          YouTube\\n         </span>\\n        </a>\\n       </li>\\n       <li class=\"tooltip\" title=\"More...\">\\n        <a href=\"/socialmedia\">\\n         <span class=\"icon icon-plus-circled\">\\n         </span>\\n         <span class=\"sr-only\">\\n          More Social Media\\n         </span>\\n        </a>\\n       </li>\\n      </ul>\\n     </div>\\n     <div class=\"col-7 col-sm-12 legal\">\\n      <h3 class=\"sr-only\">\\n       Legal\\n      </h3>\\n      <ul>\\n       <li>\\n        <a href=\"/affirmativeactionstatement.htm\">\\n         <span class=\"hide-sm hide-md\">\\n          GVSU is an\\n         </span>\\n         AA/EO Institution\\n        </a>\\n       </li>\\n       <li>\\n        <a href=\"/privacystatement.htm\">\\n         Privacy Policy\\n        </a>\\n       </li>\\n       <li>\\n        <a href=\"/disclosures\">\\n         Disclosures\\n        </a>\\n       </li>\\n       <li>\\n        <span class=\"hide-sm hide-md\">\\n         Copyright\\n        </span>\\n        © 2016 GVSU\\n       </li>\\n       <li class=\"transparency\">\\n        <a href=\"/s/jg\">\\n         <noscript data-lazy-alt=\"Budget and Performance Transparency Reporting\" data-lazy-src=\"/homepage/files/img/trans_small[1470740212].png\">\\n          <img alt=\"Budget and Performance Transparency Reporting\" src=\"/homepage/files/img/trans_small[1470740212].png\"/>\\n         </noscript>\\n        </a>\\n       </li>\\n      </ul>\\n     </div>\\n    </div>\\n   </div>\\n  </div>\\n </body>\\n</html>\\n<!-- ↑ ↑ ↓ ↓ ← → ← → B A -->\\n'"
      ]
     },
     "execution_count": 19,
     "metadata": {},
     "output_type": "execute_result"
    }
   ],
   "source": [
    "soup = BeautifulSoup(fp, \"lxml\")\n",
    "soup.prettify()"
   ]
  },
  {
   "cell_type": "code",
   "execution_count": null,
   "metadata": {
    "collapsed": true
   },
   "outputs": [],
   "source": []
  }
 ],
 "metadata": {
  "anaconda-cloud": {},
  "kernelspec": {
   "display_name": "Python [default]",
   "language": "python",
   "name": "python3"
  },
  "language_info": {
   "codemirror_mode": {
    "name": "ipython",
    "version": 3
   },
   "file_extension": ".py",
   "mimetype": "text/x-python",
   "name": "python",
   "nbconvert_exporter": "python",
   "pygments_lexer": "ipython3",
   "version": "3.5.2"
  }
 },
 "nbformat": 4,
 "nbformat_minor": 1
}
