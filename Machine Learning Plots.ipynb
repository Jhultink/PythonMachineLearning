{
 "cells": [
  {
   "cell_type": "code",
   "execution_count": 1,
   "metadata": {
    "collapsed": false
   },
   "outputs": [],
   "source": [
    "import pandas\n",
    "import matplotlib.pyplot as plt\n",
    "import numpy as np\n",
    "from sklearn import svm\n",
    "filePath = r\"C:\\\\Users\\\\OWNER\\\\Documents\\\\Visual Studio 2015\\\\Projects\\\\MachineLearningDataGatherer\" \\\n",
    "    + r\"\\\\MachineLearningDataGatherer\\\\bin\\\\Debug\\\\Output\\\\Saved\\\\\""
   ]
  },
  {
   "cell_type": "code",
   "execution_count": 2,
   "metadata": {
    "collapsed": true
   },
   "outputs": [],
   "source": [
    "data = pandas.read_csv(filePath + r\"OffGameLogs.csv\")"
   ]
  },
  {
   "cell_type": "code",
   "execution_count": 3,
   "metadata": {
    "collapsed": false
   },
   "outputs": [
    {
     "data": {
      "text/html": [
       "<div>\n",
       "<table border=\"1\" class=\"dataframe\">\n",
       "  <thead>\n",
       "    <tr style=\"text-align: right;\">\n",
       "      <th></th>\n",
       "      <th>Date</th>\n",
       "      <th>Team ID</th>\n",
       "      <th>Opp ID</th>\n",
       "      <th>Opp Name</th>\n",
       "      <th>Location</th>\n",
       "      <th>Field</th>\n",
       "      <th>Result</th>\n",
       "      <th>Team Score</th>\n",
       "      <th>Opp Score</th>\n",
       "      <th>Rush Yds</th>\n",
       "      <th>Pass Yards</th>\n",
       "      <th>Plays</th>\n",
       "      <th>Total Yards</th>\n",
       "      <th>Yards/Play</th>\n",
       "    </tr>\n",
       "  </thead>\n",
       "  <tbody>\n",
       "    <tr>\n",
       "      <th>4737</th>\n",
       "      <td>09/17/11</td>\n",
       "      <td>255</td>\n",
       "      <td>328.0</td>\n",
       "      <td>Kansas</td>\n",
       "      <td>H</td>\n",
       "      <td>Grass</td>\n",
       "      <td>W</td>\n",
       "      <td>66.0</td>\n",
       "      <td>24.0</td>\n",
       "      <td>604.0</td>\n",
       "      <td>164.0</td>\n",
       "      <td>57.0</td>\n",
       "      <td>768.0</td>\n",
       "      <td>13.47</td>\n",
       "    </tr>\n",
       "    <tr>\n",
       "      <th>3790</th>\n",
       "      <td>11/26/10</td>\n",
       "      <td>503</td>\n",
       "      <td>204.0</td>\n",
       "      <td>Eastern Mich.</td>\n",
       "      <td>A</td>\n",
       "      <td>Turf</td>\n",
       "      <td>W</td>\n",
       "      <td>71.0</td>\n",
       "      <td>3.0</td>\n",
       "      <td>544.0</td>\n",
       "      <td>102.0</td>\n",
       "      <td>49.0</td>\n",
       "      <td>646.0</td>\n",
       "      <td>13.18</td>\n",
       "    </tr>\n",
       "    <tr>\n",
       "      <th>3568</th>\n",
       "      <td>10/02/10</td>\n",
       "      <td>418</td>\n",
       "      <td>306.0</td>\n",
       "      <td>Indiana</td>\n",
       "      <td>A</td>\n",
       "      <td>Turf</td>\n",
       "      <td>W</td>\n",
       "      <td>42.0</td>\n",
       "      <td>35.0</td>\n",
       "      <td>297.0</td>\n",
       "      <td>277.0</td>\n",
       "      <td>45.0</td>\n",
       "      <td>574.0</td>\n",
       "      <td>12.76</td>\n",
       "    </tr>\n",
       "    <tr>\n",
       "      <th>296</th>\n",
       "      <td>09/06/08</td>\n",
       "      <td>30</td>\n",
       "      <td>NaN</td>\n",
       "      <td>Texas Southern</td>\n",
       "      <td>H</td>\n",
       "      <td>Grass</td>\n",
       "      <td>W</td>\n",
       "      <td>83.0</td>\n",
       "      <td>10.0</td>\n",
       "      <td>441.0</td>\n",
       "      <td>229.0</td>\n",
       "      <td>54.0</td>\n",
       "      <td>670.0</td>\n",
       "      <td>12.41</td>\n",
       "    </tr>\n",
       "    <tr>\n",
       "      <th>1070</th>\n",
       "      <td>10/04/08</td>\n",
       "      <td>671</td>\n",
       "      <td>498.0</td>\n",
       "      <td>La.-Monroe</td>\n",
       "      <td>A</td>\n",
       "      <td>Turf</td>\n",
       "      <td>W</td>\n",
       "      <td>44.0</td>\n",
       "      <td>35.0</td>\n",
       "      <td>556.0</td>\n",
       "      <td>172.0</td>\n",
       "      <td>60.0</td>\n",
       "      <td>728.0</td>\n",
       "      <td>12.13</td>\n",
       "    </tr>\n",
       "  </tbody>\n",
       "</table>\n",
       "</div>"
      ],
      "text/plain": [
       "          Date  Team ID  Opp ID        Opp Name Location  Field Result  \\\n",
       "4737  09/17/11      255   328.0          Kansas        H  Grass      W   \n",
       "3790  11/26/10      503   204.0   Eastern Mich.        A   Turf      W   \n",
       "3568  10/02/10      418   306.0         Indiana        A   Turf      W   \n",
       "296   09/06/08       30     NaN  Texas Southern        H  Grass      W   \n",
       "1070  10/04/08      671   498.0      La.-Monroe        A   Turf      W   \n",
       "\n",
       "      Team Score  Opp Score  Rush Yds  Pass Yards  Plays  Total Yards  \\\n",
       "4737        66.0       24.0     604.0       164.0   57.0        768.0   \n",
       "3790        71.0        3.0     544.0       102.0   49.0        646.0   \n",
       "3568        42.0       35.0     297.0       277.0   45.0        574.0   \n",
       "296         83.0       10.0     441.0       229.0   54.0        670.0   \n",
       "1070        44.0       35.0     556.0       172.0   60.0        728.0   \n",
       "\n",
       "      Yards/Play  \n",
       "4737       13.47  \n",
       "3790       13.18  \n",
       "3568       12.76  \n",
       "296        12.41  \n",
       "1070       12.13  "
      ]
     },
     "execution_count": 3,
     "metadata": {},
     "output_type": "execute_result"
    }
   ],
   "source": [
    "data.sort_values([\"Yards/Play\"], ascending=0).head()"
   ]
  },
  {
   "cell_type": "code",
   "execution_count": 4,
   "metadata": {
    "collapsed": false
   },
   "outputs": [
    {
     "data": {
      "image/png": "[encoded data removed]",
      "text/plain": [
       "<matplotlib.figure.Figure at 0x15b0a16b160>"
      ]
     },
     "metadata": {},
     "output_type": "display_data"
    }
   ],
   "source": [
    "plt.scatter(data[\"Total Yards\"].head(1000),data[\"Team Score\"].head(1000))\n",
    "plt.ylim([-10,90])\n",
    "plt.xlim([0,900])\n",
    "m,b = np.polyfit(data[\"Total Yards\"].head(1000),data[\"Team Score\"].head(1000),1)\n",
    "plt.show()"
   ]
  },
  {
   "cell_type": "code",
   "execution_count": null,
   "metadata": {
    "collapsed": false
   },
   "outputs": [],
   "source": []
  },
  {
   "cell_type": "code",
   "execution_count": null,
   "metadata": {
    "collapsed": false
   },
   "outputs": [],
   "source": []
  },
  {
   "cell_type": "code",
   "execution_count": null,
   "metadata": {
    "collapsed": false
   },
   "outputs": [],
   "source": []
  },
  {
   "cell_type": "code",
   "execution_count": null,
   "metadata": {
    "collapsed": true
   },
   "outputs": [],
   "source": []
  }
 ],
 "metadata": {
  "anaconda-cloud": {},
  "kernelspec": {
   "display_name": "Python [default]",
   "language": "python",
   "name": "python3"
  },
  "language_info": {
   "codemirror_mode": {
    "name": "ipython",
    "version": 3
   },
   "file_extension": ".py",
   "mimetype": "text/x-python",
   "name": "python",
   "nbconvert_exporter": "python",
   "pygments_lexer": "ipython3",
   "version": "3.5.2"
  }
 },
 "nbformat": 4,
 "nbformat_minor": 1
}
